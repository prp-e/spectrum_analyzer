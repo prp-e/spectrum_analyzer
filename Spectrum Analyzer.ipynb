{
 "cells": [
  {
   "cell_type": "code",
   "execution_count": 1,
   "id": "unavailable-laugh",
   "metadata": {},
   "outputs": [],
   "source": [
    "import pyaudio\n",
    "import struct\n",
    "import numpy as np\n",
    "from matplotlib import pyplot as plt"
   ]
  },
  {
   "cell_type": "code",
   "execution_count": 2,
   "id": "lonely-quarter",
   "metadata": {},
   "outputs": [],
   "source": [
    "CHUNK = 1024\n",
    "FORMAT = pyaudio.paInt16\n",
    "CHANNELS = 1\n",
    "RATE = 44100"
   ]
  },
  {
   "cell_type": "code",
   "execution_count": 3,
   "id": "median-dominican",
   "metadata": {},
   "outputs": [],
   "source": [
    "p = pyaudio.PyAudio()\n",
    "\n",
    "# stream = p.open(\n",
    "#     format=FORMAT,\n",
    "#     channels=CHANNELS,\n",
    "#     rate=RATE,\n",
    "#     input=True,\n",
    "#     output=True,\n",
    "#     frames_per_buffer=CHUNK\n",
    "# )\n",
    "\n",
    "# data = stream.read(CHUNK)\n",
    "# data_int = np.array(struct.unpack(str(2 * CHUNK) + 'B', data), dtype='b')[::2] + 127 \n",
    "# data_int"
   ]
  },
  {
   "cell_type": "code",
   "execution_count": 5,
   "id": "legendary-annual",
   "metadata": {},
   "outputs": [],
   "source": [
    "%matplotlib tk \n",
    "\n",
    "stream = p.open(\n",
    "    format=FORMAT,\n",
    "    channels=CHANNELS,\n",
    "    rate=RATE,\n",
    "    input=True,\n",
    "    output=True,\n",
    "    frames_per_buffer=CHUNK\n",
    ")\n",
    "\n",
    "fig, ax = plt.subplots(1, figsize=(15, 8))\n",
    "\n",
    "x = np.arange(0, 2 * CHUNK, 2)\n",
    "line, = ax.plot(x, np.random.rand(CHUNK), '-', lw=2)\n",
    "\n",
    "ax.set_ylim(0, 255)\n",
    "ax.set_xlim(0, 2 * CHUNK)\n",
    "\n",
    "while True:\n",
    "    data = stream.read(CHUNK, exception_on_overflow = False)\n",
    "    data_int = struct.unpack(str(2 * CHUNK) + 'B', data)\n",
    "    data_int = np.array(data_int, dtype='b')[::2] + 128\n",
    "    line.set_ydata(data_int)\n",
    "    try:\n",
    "        fig.canvas.draw()\n",
    "        fig.canvas.flush_events()\n",
    "    except:\n",
    "        break"
   ]
  },
  {
   "cell_type": "markdown",
   "id": "widespread-street",
   "metadata": {},
   "source": [
    "# FFT and beyond"
   ]
  },
  {
   "cell_type": "code",
   "execution_count": null,
   "id": "french-illness",
   "metadata": {},
   "outputs": [],
   "source": []
  }
 ],
 "metadata": {
  "kernelspec": {
   "display_name": "Python 3",
   "language": "python",
   "name": "python3"
  },
  "language_info": {
   "codemirror_mode": {
    "name": "ipython",
    "version": 3
   },
   "file_extension": ".py",
   "mimetype": "text/x-python",
   "name": "python",
   "nbconvert_exporter": "python",
   "pygments_lexer": "ipython3",
   "version": "3.8.6"
  }
 },
 "nbformat": 4,
 "nbformat_minor": 5
}
